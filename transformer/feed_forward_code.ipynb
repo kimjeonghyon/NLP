{
  "nbformat": 4,
  "nbformat_minor": 0,
  "metadata": {
    "colab": {
      "provenance": [],
      "collapsed_sections": []
    },
    "kernelspec": {
      "name": "python3",
      "display_name": "Python 3"
    },
    "language_info": {
      "name": "python"
    }
  },
  "cells": [
    {
      "cell_type": "code",
      "execution_count": 2,
      "metadata": {
        "id": "At0RMH3U6QX6"
      },
      "outputs": [],
      "source": [
        "import torch\n",
        "# 입력층이 2개, 은닉층이 3개 출력층이 2개 인 경우\n",
        "# 입력층 뉴런이 [2,1]\n",
        "x = torch.tensor([2,1])\n",
        "# 입력층의 가중치가 [3,2],[2,-3],[-4,1] 이고, 바이어스가 1\n",
        "w1 = torch.tensor([[3,2,-4],[2,-3,1]])\n",
        "b1 = 1\n",
        "# 은닉층의 가중치가 [-1,1,3],[1,2,1] 이고, 바이어스가 -1\n",
        "w2 = torch.tensor([[-1,1],[1,2],[3,1]])\n",
        "b2 = -1"
      ]
    },
    {
      "cell_type": "code",
      "source": [
        "h_preact = torch.matmul(x, w1) + b1\n",
        "h = torch.nn.functional.relu(h_preact)\n",
        "y = torch.matmul(h, w2) + b2"
      ],
      "metadata": {
        "id": "E0wF7OY1G5Nm"
      },
      "execution_count": 3,
      "outputs": []
    },
    {
      "cell_type": "code",
      "source": [
        "h_preact"
      ],
      "metadata": {
        "colab": {
          "base_uri": "https://localhost:8080/"
        },
        "id": "coMHkT9lHlWs",
        "outputId": "757bce53-0823-4d88-92fe-c4d0dbf0e758"
      },
      "execution_count": 4,
      "outputs": [
        {
          "output_type": "execute_result",
          "data": {
            "text/plain": [
              "tensor([ 9,  2, -6])"
            ]
          },
          "metadata": {},
          "execution_count": 4
        }
      ]
    },
    {
      "cell_type": "code",
      "source": [
        "h"
      ],
      "metadata": {
        "colab": {
          "base_uri": "https://localhost:8080/"
        },
        "id": "O8iE6M2-HmwI",
        "outputId": "f040e5ec-37a4-49ac-8cf7-ab9ea54fc78f"
      },
      "execution_count": 5,
      "outputs": [
        {
          "output_type": "execute_result",
          "data": {
            "text/plain": [
              "tensor([9, 2, 0])"
            ]
          },
          "metadata": {},
          "execution_count": 5
        }
      ]
    },
    {
      "cell_type": "code",
      "source": [
        "y"
      ],
      "metadata": {
        "colab": {
          "base_uri": "https://localhost:8080/"
        },
        "id": "p39YgStYHo_U",
        "outputId": "f28a3d5e-0602-473d-e5e9-46b7b3701e63"
      },
      "execution_count": 6,
      "outputs": [
        {
          "output_type": "execute_result",
          "data": {
            "text/plain": [
              "tensor([-8, 12])"
            ]
          },
          "metadata": {},
          "execution_count": 6
        }
      ]
    },
    {
      "cell_type": "code",
      "source": [],
      "metadata": {
        "id": "g05QRn_2HqFZ"
      },
      "execution_count": null,
      "outputs": []
    }
  ]
}