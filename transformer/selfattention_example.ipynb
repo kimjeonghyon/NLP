{
  "nbformat": 4,
  "nbformat_minor": 0,
  "metadata": {
    "colab": {
      "provenance": []
    },
    "kernelspec": {
      "name": "python3",
      "display_name": "Python 3"
    },
    "language_info": {
      "name": "python"
    }
  },
  "cells": [
    {
      "cell_type": "code",
      "execution_count": 1,
      "metadata": {
        "id": "rhg86TjURrNP"
      },
      "outputs": [],
      "source": [
        "# Do it! BERT와 GPT로 배우는 자연어 처리\n",
        "# p.90\n",
        "# 코드로 확인하기"
      ]
    },
    {
      "cell_type": "code",
      "source": [
        "import torch\n",
        "X = torch.tensor([\n",
        "    [1.0, 0.0, 1.0, 0.0],\n",
        "    [0.0, 2.0, 0.0, 2.0],\n",
        "    [1.0, 1.0, 1.0, 1.0],\n",
        "])\n",
        "w_query = torch.tensor([\n",
        "    [1.0, 0.0, 1.0],\n",
        "    [1.0, 0.0, 0.0],\n",
        "    [0.0, 0.0, 1.0],\n",
        "    [0.0, 1.0, 1.0],\n",
        "])\n",
        "w_key = torch.tensor([\n",
        "    [0.0, 0.0, 1.0],\n",
        "    [1.0, 1.0, 0.0],\n",
        "    [0.0, 1.0, 0.0],\n",
        "    [1.0, 1.0, 0.0],\n",
        "])\n",
        "w_value = torch.tensor([\n",
        "    [0.0, 2.0, 0.0],\n",
        "    [0.0, 3.0, 0.0],\n",
        "    [1.0, 0.0, 3.0],\n",
        "    [1.0, 1.0, 0.0],\n",
        "])"
      ],
      "metadata": {
        "id": "S86pLRykSOyA"
      },
      "execution_count": 2,
      "outputs": []
    },
    {
      "cell_type": "code",
      "source": [
        "keys = torch.matmul(X, w_key)\n",
        "querys = torch.matmul(X, w_query)\n",
        "values = torch.matmul(X, w_value)"
      ],
      "metadata": {
        "id": "RkPCVtNwS7vq"
      },
      "execution_count": 4,
      "outputs": []
    },
    {
      "cell_type": "code",
      "source": [
        "attn_scores = torch.matmul(querys, keys.T)"
      ],
      "metadata": {
        "id": "V4MHF4NjTFop"
      },
      "execution_count": 5,
      "outputs": []
    },
    {
      "cell_type": "code",
      "source": [
        "attn_scores"
      ],
      "metadata": {
        "colab": {
          "base_uri": "https://localhost:8080/"
        },
        "id": "JZ914qHvTOll",
        "outputId": "007ed09f-7863-4860-c42c-0f3f38b3c859"
      },
      "execution_count": 6,
      "outputs": [
        {
          "output_type": "execute_result",
          "data": {
            "text/plain": [
              "tensor([[ 2.,  4.,  4.],\n",
              "        [ 4., 16., 12.],\n",
              "        [ 4., 12., 10.]])"
            ]
          },
          "metadata": {},
          "execution_count": 6
        }
      ]
    },
    {
      "cell_type": "code",
      "source": [
        "import numpy as np\n",
        "from torch.nn.functional import softmax\n",
        "key_dim_sqrt = np.sqrt(keys.shape[-1])\n",
        "attn_probs = softmax(attn_scores / key_dim_sqrt, dim = -1)"
      ],
      "metadata": {
        "id": "AHy7axxUTivI"
      },
      "execution_count": 7,
      "outputs": []
    },
    {
      "cell_type": "code",
      "source": [
        "attn_probs"
      ],
      "metadata": {
        "colab": {
          "base_uri": "https://localhost:8080/"
        },
        "id": "dnllHlspT4jM",
        "outputId": "a5e1b933-a11e-425b-821a-afa9d9209421"
      },
      "execution_count": 8,
      "outputs": [
        {
          "output_type": "execute_result",
          "data": {
            "text/plain": [
              "tensor([[1.3613e-01, 4.3194e-01, 4.3194e-01],\n",
              "        [8.9045e-04, 9.0884e-01, 9.0267e-02],\n",
              "        [7.4449e-03, 7.5471e-01, 2.3785e-01]])"
            ]
          },
          "metadata": {},
          "execution_count": 8
        }
      ]
    },
    {
      "cell_type": "code",
      "source": [
        "weighted_values = torch.matmul(attn_probs, values)"
      ],
      "metadata": {
        "id": "blf6AvBeT56i"
      },
      "execution_count": 9,
      "outputs": []
    },
    {
      "cell_type": "code",
      "source": [
        "weighted_values "
      ],
      "metadata": {
        "colab": {
          "base_uri": "https://localhost:8080/"
        },
        "id": "uQ50q9TnT_d5",
        "outputId": "bfd40fab-3143-4c03-c338-399591d91de9"
      },
      "execution_count": 10,
      "outputs": [
        {
          "output_type": "execute_result",
          "data": {
            "text/plain": [
              "tensor([[1.8639, 6.3194, 1.7042],\n",
              "        [1.9991, 7.8141, 0.2735],\n",
              "        [1.9926, 7.4796, 0.7359]])"
            ]
          },
          "metadata": {},
          "execution_count": 10
        }
      ]
    },
    {
      "cell_type": "code",
      "source": [],
      "metadata": {
        "id": "WWu7O3c3UBFd"
      },
      "execution_count": null,
      "outputs": []
    }
  ]
}