{
  "nbformat": 4,
  "nbformat_minor": 0,
  "metadata": {
    "colab": {
      "provenance": []
    },
    "kernelspec": {
      "name": "python3",
      "display_name": "Python 3"
    },
    "language_info": {
      "name": "python"
    }
  },
  "cells": [
    {
      "cell_type": "code",
      "execution_count": 4,
      "metadata": {
        "id": "reRYGp-_jZ-X"
      },
      "outputs": [],
      "source": [
        "import torch\n",
        "# 드롭아웃 수행 비율이 평균 20%가 되게 한다.\n",
        "# 안정적인 학습을 위해 1/(1-p) 를 곱한다.\n",
        "# 학습에만 적용하고, 인퍼런스 과정에서는 적용하지 않는다.\n",
        "m = torch.nn.Dropout(p=0.2) \n",
        "input = torch.randn(1,10)\n",
        "output = m(input)\n"
      ]
    },
    {
      "cell_type": "code",
      "source": [
        "input"
      ],
      "metadata": {
        "colab": {
          "base_uri": "https://localhost:8080/"
        },
        "id": "lWtYeelSjtCq",
        "outputId": "40e97686-ffe0-4bfb-e4e7-12cfde179ed2"
      },
      "execution_count": 5,
      "outputs": [
        {
          "output_type": "execute_result",
          "data": {
            "text/plain": [
              "tensor([[-0.3481,  1.5716, -1.8342,  0.6742,  0.4409,  0.9273, -0.7179, -0.5205,\n",
              "          0.5774,  1.2250]])"
            ]
          },
          "metadata": {},
          "execution_count": 5
        }
      ]
    },
    {
      "cell_type": "code",
      "source": [
        "output"
      ],
      "metadata": {
        "colab": {
          "base_uri": "https://localhost:8080/"
        },
        "id": "nIpJ8e2ej0uT",
        "outputId": "ea6e8223-39bb-4c31-f6ba-ef351e3dfa56"
      },
      "execution_count": 6,
      "outputs": [
        {
          "output_type": "execute_result",
          "data": {
            "text/plain": [
              "tensor([[-0.4351,  1.9645, -2.2928,  0.8428,  0.5512,  1.1592, -0.0000, -0.6506,\n",
              "          0.7217,  1.5312]])"
            ]
          },
          "metadata": {},
          "execution_count": 6
        }
      ]
    },
    {
      "cell_type": "code",
      "source": [],
      "metadata": {
        "id": "w6lRnRUfj29z"
      },
      "execution_count": 3,
      "outputs": []
    }
  ]
}